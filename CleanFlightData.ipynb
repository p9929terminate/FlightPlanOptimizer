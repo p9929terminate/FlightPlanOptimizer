{
 "cells": [
  {
   "cell_type": "code",
   "execution_count": 1,
   "metadata": {},
   "outputs": [],
   "source": [
    "import pandas as pd"
   ]
  },
  {
   "cell_type": "code",
   "execution_count": 2,
   "metadata": {},
   "outputs": [],
   "source": [
    "df = pd.read_csv('allFlights.csv')"
   ]
  },
  {
   "cell_type": "code",
   "execution_count": 3,
   "metadata": {},
   "outputs": [],
   "source": [
    "df2 = df.drop(columns=['FL_DATE', 'OP_CARRIER_FL_NUM', 'DIVERTED', 'CANCELLED', 'TAXI_OUT', 'CRS_DEP_TIME', 'DEP_TIME', 'WHEELS_OFF', 'WHEELS_ON', 'TAXI_IN', 'CRS_ARR_TIME', 'ARR_TIME', 'CANCELLATION_CODE', 'CRS_ELAPSED_TIME', 'CARRIER_DELAY', 'WEATHER_DELAY', 'NAS_DELAY', 'SECURITY_DELAY', 'Unnamed: 27'])"
   ]
  },
  {
   "cell_type": "code",
   "execution_count": 4,
   "metadata": {},
   "outputs": [
    {
     "data": {
      "text/html": [
       "<div>\n",
       "<style scoped>\n",
       "    .dataframe tbody tr th:only-of-type {\n",
       "        vertical-align: middle;\n",
       "    }\n",
       "\n",
       "    .dataframe tbody tr th {\n",
       "        vertical-align: top;\n",
       "    }\n",
       "\n",
       "    .dataframe thead th {\n",
       "        text-align: right;\n",
       "    }\n",
       "</style>\n",
       "<table border=\"1\" class=\"dataframe\">\n",
       "  <thead>\n",
       "    <tr style=\"text-align: right;\">\n",
       "      <th></th>\n",
       "      <th>OP_CARRIER</th>\n",
       "      <th>ORIGIN</th>\n",
       "      <th>DEST</th>\n",
       "      <th>DEP_DELAY</th>\n",
       "      <th>ARR_DELAY</th>\n",
       "      <th>ACTUAL_ELAPSED_TIME</th>\n",
       "      <th>AIR_TIME</th>\n",
       "      <th>DISTANCE</th>\n",
       "    </tr>\n",
       "  </thead>\n",
       "  <tbody>\n",
       "    <tr>\n",
       "      <th>0</th>\n",
       "      <td>UA</td>\n",
       "      <td>EWR</td>\n",
       "      <td>DEN</td>\n",
       "      <td>-5.0</td>\n",
       "      <td>-23.0</td>\n",
       "      <td>250.0</td>\n",
       "      <td>225.0</td>\n",
       "      <td>1605.0</td>\n",
       "    </tr>\n",
       "    <tr>\n",
       "      <th>1</th>\n",
       "      <td>UA</td>\n",
       "      <td>LAS</td>\n",
       "      <td>SFO</td>\n",
       "      <td>-8.0</td>\n",
       "      <td>-24.0</td>\n",
       "      <td>83.0</td>\n",
       "      <td>65.0</td>\n",
       "      <td>414.0</td>\n",
       "    </tr>\n",
       "    <tr>\n",
       "      <th>2</th>\n",
       "      <td>UA</td>\n",
       "      <td>SNA</td>\n",
       "      <td>DEN</td>\n",
       "      <td>-5.0</td>\n",
       "      <td>-13.0</td>\n",
       "      <td>126.0</td>\n",
       "      <td>106.0</td>\n",
       "      <td>846.0</td>\n",
       "    </tr>\n",
       "    <tr>\n",
       "      <th>3</th>\n",
       "      <td>UA</td>\n",
       "      <td>RSW</td>\n",
       "      <td>ORD</td>\n",
       "      <td>6.0</td>\n",
       "      <td>-2.0</td>\n",
       "      <td>182.0</td>\n",
       "      <td>157.0</td>\n",
       "      <td>1120.0</td>\n",
       "    </tr>\n",
       "    <tr>\n",
       "      <th>4</th>\n",
       "      <td>UA</td>\n",
       "      <td>ORD</td>\n",
       "      <td>ALB</td>\n",
       "      <td>20.0</td>\n",
       "      <td>14.0</td>\n",
       "      <td>106.0</td>\n",
       "      <td>83.0</td>\n",
       "      <td>723.0</td>\n",
       "    </tr>\n",
       "  </tbody>\n",
       "</table>\n",
       "</div>"
      ],
      "text/plain": [
       "  OP_CARRIER ORIGIN DEST  DEP_DELAY  ARR_DELAY  ACTUAL_ELAPSED_TIME  AIR_TIME  \\\n",
       "0         UA    EWR  DEN       -5.0      -23.0                250.0     225.0   \n",
       "1         UA    LAS  SFO       -8.0      -24.0                 83.0      65.0   \n",
       "2         UA    SNA  DEN       -5.0      -13.0                126.0     106.0   \n",
       "3         UA    RSW  ORD        6.0       -2.0                182.0     157.0   \n",
       "4         UA    ORD  ALB       20.0       14.0                106.0      83.0   \n",
       "\n",
       "   DISTANCE  \n",
       "0    1605.0  \n",
       "1     414.0  \n",
       "2     846.0  \n",
       "3    1120.0  \n",
       "4     723.0  "
      ]
     },
     "execution_count": 4,
     "metadata": {},
     "output_type": "execute_result"
    }
   ],
   "source": [
    "df3 = df2.drop(columns=['LATE_AIRCRAFT_DELAY'])\n",
    "df3.head()"
   ]
  },
  {
   "cell_type": "code",
   "execution_count": 5,
   "metadata": {},
   "outputs": [
    {
     "data": {
      "text/plain": [
       "7213446"
      ]
     },
     "execution_count": 5,
     "metadata": {},
     "output_type": "execute_result"
    }
   ],
   "source": [
    "len(df3)"
   ]
  },
  {
   "cell_type": "code",
   "execution_count": 6,
   "metadata": {},
   "outputs": [],
   "source": [
    "for index, row in df3.iterrows():\n",
    "    if (row['DEP_DELAY'] < 0):\n",
    "        row['DEP_DELAY'] = 0\n"
   ]
  },
  {
   "cell_type": "code",
   "execution_count": 7,
   "metadata": {},
   "outputs": [],
   "source": [
    "for index, row in df3.iterrows():\n",
    "    if (row['ARR_DELAY'] < 0):\n",
    "        row['ARR_DELAY'] = 0"
   ]
  },
  {
   "cell_type": "code",
   "execution_count": 8,
   "metadata": {},
   "outputs": [],
   "source": [
    "df4 = df3.groupby(['OP_CARRIER', 'ORIGIN', 'DEST'], as_index=False).agg({'DEP_DELAY' : 'mean', 'ARR_DELAY' : 'mean', 'ACTUAL_ELAPSED_TIME': 'mean', 'AIR_TIME': 'mean', 'DISTANCE': 'mean'})"
   ]
  },
  {
   "cell_type": "code",
   "execution_count": 9,
   "metadata": {},
   "outputs": [
    {
     "data": {
      "text/html": [
       "<div>\n",
       "<style scoped>\n",
       "    .dataframe tbody tr th:only-of-type {\n",
       "        vertical-align: middle;\n",
       "    }\n",
       "\n",
       "    .dataframe tbody tr th {\n",
       "        vertical-align: top;\n",
       "    }\n",
       "\n",
       "    .dataframe thead th {\n",
       "        text-align: right;\n",
       "    }\n",
       "</style>\n",
       "<table border=\"1\" class=\"dataframe\">\n",
       "  <thead>\n",
       "    <tr style=\"text-align: right;\">\n",
       "      <th></th>\n",
       "      <th>OP_CARRIER</th>\n",
       "      <th>ORIGIN</th>\n",
       "      <th>DEST</th>\n",
       "      <th>DEP_DELAY</th>\n",
       "      <th>ARR_DELAY</th>\n",
       "      <th>ACTUAL_ELAPSED_TIME</th>\n",
       "      <th>AIR_TIME</th>\n",
       "      <th>DISTANCE</th>\n",
       "    </tr>\n",
       "  </thead>\n",
       "  <tbody>\n",
       "    <tr>\n",
       "      <th>0</th>\n",
       "      <td>9E</td>\n",
       "      <td>ABE</td>\n",
       "      <td>ATL</td>\n",
       "      <td>11.991379</td>\n",
       "      <td>9.689459</td>\n",
       "      <td>131.504274</td>\n",
       "      <td>104.498575</td>\n",
       "      <td>692.0</td>\n",
       "    </tr>\n",
       "    <tr>\n",
       "      <th>1</th>\n",
       "      <td>9E</td>\n",
       "      <td>ABY</td>\n",
       "      <td>ATL</td>\n",
       "      <td>13.138614</td>\n",
       "      <td>14.819444</td>\n",
       "      <td>62.206963</td>\n",
       "      <td>37.557060</td>\n",
       "      <td>145.0</td>\n",
       "    </tr>\n",
       "    <tr>\n",
       "      <th>2</th>\n",
       "      <td>9E</td>\n",
       "      <td>ACK</td>\n",
       "      <td>LGA</td>\n",
       "      <td>43.782609</td>\n",
       "      <td>42.901099</td>\n",
       "      <td>80.913978</td>\n",
       "      <td>48.462366</td>\n",
       "      <td>202.0</td>\n",
       "    </tr>\n",
       "    <tr>\n",
       "      <th>3</th>\n",
       "      <td>9E</td>\n",
       "      <td>AEX</td>\n",
       "      <td>ATL</td>\n",
       "      <td>8.303030</td>\n",
       "      <td>2.161616</td>\n",
       "      <td>99.702213</td>\n",
       "      <td>72.543260</td>\n",
       "      <td>500.0</td>\n",
       "    </tr>\n",
       "    <tr>\n",
       "      <th>4</th>\n",
       "      <td>9E</td>\n",
       "      <td>AGS</td>\n",
       "      <td>ATL</td>\n",
       "      <td>11.164384</td>\n",
       "      <td>8.586006</td>\n",
       "      <td>63.038685</td>\n",
       "      <td>33.851064</td>\n",
       "      <td>143.0</td>\n",
       "    </tr>\n",
       "    <tr>\n",
       "      <th>...</th>\n",
       "      <td>...</td>\n",
       "      <td>...</td>\n",
       "      <td>...</td>\n",
       "      <td>...</td>\n",
       "      <td>...</td>\n",
       "      <td>...</td>\n",
       "      <td>...</td>\n",
       "      <td>...</td>\n",
       "    </tr>\n",
       "    <tr>\n",
       "      <th>95</th>\n",
       "      <td>9E</td>\n",
       "      <td>AZO</td>\n",
       "      <td>MSP</td>\n",
       "      <td>16.000000</td>\n",
       "      <td>20.000000</td>\n",
       "      <td>123.000000</td>\n",
       "      <td>65.000000</td>\n",
       "      <td>426.0</td>\n",
       "    </tr>\n",
       "    <tr>\n",
       "      <th>96</th>\n",
       "      <td>9E</td>\n",
       "      <td>BDL</td>\n",
       "      <td>CLE</td>\n",
       "      <td>-0.396648</td>\n",
       "      <td>-7.828729</td>\n",
       "      <td>104.751381</td>\n",
       "      <td>80.900552</td>\n",
       "      <td>476.0</td>\n",
       "    </tr>\n",
       "    <tr>\n",
       "      <th>97</th>\n",
       "      <td>9E</td>\n",
       "      <td>BDL</td>\n",
       "      <td>CVG</td>\n",
       "      <td>5.277273</td>\n",
       "      <td>-2.901786</td>\n",
       "      <td>122.021834</td>\n",
       "      <td>102.475983</td>\n",
       "      <td>661.0</td>\n",
       "    </tr>\n",
       "    <tr>\n",
       "      <th>98</th>\n",
       "      <td>9E</td>\n",
       "      <td>BDL</td>\n",
       "      <td>DTW</td>\n",
       "      <td>3.510204</td>\n",
       "      <td>-5.980000</td>\n",
       "      <td>113.160000</td>\n",
       "      <td>92.140000</td>\n",
       "      <td>549.0</td>\n",
       "    </tr>\n",
       "    <tr>\n",
       "      <th>99</th>\n",
       "      <td>9E</td>\n",
       "      <td>BDL</td>\n",
       "      <td>MCO</td>\n",
       "      <td>19.500000</td>\n",
       "      <td>14.625000</td>\n",
       "      <td>180.125000</td>\n",
       "      <td>151.125000</td>\n",
       "      <td>1050.0</td>\n",
       "    </tr>\n",
       "  </tbody>\n",
       "</table>\n",
       "<p>100 rows × 8 columns</p>\n",
       "</div>"
      ],
      "text/plain": [
       "   OP_CARRIER ORIGIN DEST  DEP_DELAY  ARR_DELAY  ACTUAL_ELAPSED_TIME  \\\n",
       "0          9E    ABE  ATL  11.991379   9.689459           131.504274   \n",
       "1          9E    ABY  ATL  13.138614  14.819444            62.206963   \n",
       "2          9E    ACK  LGA  43.782609  42.901099            80.913978   \n",
       "3          9E    AEX  ATL   8.303030   2.161616            99.702213   \n",
       "4          9E    AGS  ATL  11.164384   8.586006            63.038685   \n",
       "..        ...    ...  ...        ...        ...                  ...   \n",
       "95         9E    AZO  MSP  16.000000  20.000000           123.000000   \n",
       "96         9E    BDL  CLE  -0.396648  -7.828729           104.751381   \n",
       "97         9E    BDL  CVG   5.277273  -2.901786           122.021834   \n",
       "98         9E    BDL  DTW   3.510204  -5.980000           113.160000   \n",
       "99         9E    BDL  MCO  19.500000  14.625000           180.125000   \n",
       "\n",
       "      AIR_TIME  DISTANCE  \n",
       "0   104.498575     692.0  \n",
       "1    37.557060     145.0  \n",
       "2    48.462366     202.0  \n",
       "3    72.543260     500.0  \n",
       "4    33.851064     143.0  \n",
       "..         ...       ...  \n",
       "95   65.000000     426.0  \n",
       "96   80.900552     476.0  \n",
       "97  102.475983     661.0  \n",
       "98   92.140000     549.0  \n",
       "99  151.125000    1050.0  \n",
       "\n",
       "[100 rows x 8 columns]"
      ]
     },
     "execution_count": 9,
     "metadata": {},
     "output_type": "execute_result"
    }
   ],
   "source": [
    "df4.head(100)"
   ]
  },
  {
   "cell_type": "code",
   "execution_count": 10,
   "metadata": {},
   "outputs": [
    {
     "data": {
      "text/plain": [
       "13056"
      ]
     },
     "execution_count": 10,
     "metadata": {},
     "output_type": "execute_result"
    }
   ],
   "source": [
    "len(df4)"
   ]
  },
  {
   "cell_type": "code",
   "execution_count": 11,
   "metadata": {},
   "outputs": [
    {
     "data": {
      "text/plain": [
       "array(['9E', 'AA', 'AS', 'B6', 'DL', 'EV', 'F9', 'G4', 'HA', 'MQ', 'NK',\n",
       "       'OH', 'OO', 'UA', 'VX', 'WN', 'YV', 'YX'], dtype=object)"
      ]
     },
     "execution_count": 11,
     "metadata": {},
     "output_type": "execute_result"
    }
   ],
   "source": [
    "df4.OP_CARRIER.unique()"
   ]
  },
  {
   "cell_type": "code",
   "execution_count": 14,
   "metadata": {},
   "outputs": [
    {
     "data": {
      "text/plain": [
       "358"
      ]
     },
     "execution_count": 14,
     "metadata": {},
     "output_type": "execute_result"
    }
   ],
   "source": [
    "len(df4.DEST.unique())"
   ]
  },
  {
   "cell_type": "code",
   "execution_count": 15,
   "metadata": {},
   "outputs": [
    {
     "data": {
      "text/plain": [
       "358"
      ]
     },
     "execution_count": 15,
     "metadata": {},
     "output_type": "execute_result"
    }
   ],
   "source": [
    "len(df4.ORIGIN.unique())"
   ]
  }
 ],
 "metadata": {
  "kernelspec": {
   "display_name": "Python 3",
   "language": "python",
   "name": "python3"
  },
  "language_info": {
   "codemirror_mode": {
    "name": "ipython",
    "version": 3
   },
   "file_extension": ".py",
   "mimetype": "text/x-python",
   "name": "python",
   "nbconvert_exporter": "python",
   "pygments_lexer": "ipython3",
   "version": "3.10.6"
  },
  "orig_nbformat": 4
 },
 "nbformat": 4,
 "nbformat_minor": 2
}
